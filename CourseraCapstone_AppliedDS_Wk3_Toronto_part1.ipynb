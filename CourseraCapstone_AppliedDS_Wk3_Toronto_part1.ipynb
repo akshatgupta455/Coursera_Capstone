{
 "cells": [
  {
   "cell_type": "markdown",
   "metadata": {},
   "source": [
    "## Installing needed packages"
   ]
  },
  {
   "cell_type": "code",
   "execution_count": 1,
   "metadata": {},
   "outputs": [],
   "source": [
    "#conda install -c conda-forge BeautifulSoup4 --yes \n",
    "#!conda install -c conda-forge requests --yes \n",
    "#!conda install -c conda-forge lxml --yes \n",
    "#!conda install -c conda-forge html5lib --yes "
   ]
  },
  {
   "cell_type": "markdown",
   "metadata": {},
   "source": [
    "### Importing needed libraries"
   ]
  },
  {
   "cell_type": "code",
   "execution_count": 4,
   "metadata": {},
   "outputs": [],
   "source": [
    "from bs4 import BeautifulSoup # for webscarping\n",
    "import requests #to call the link\n",
    "import numpy as np\n",
    "import pandas as pd\n",
    "\n",
    "#for maps\n",
    "import folium\n",
    "\n",
    "# Matplotlib and associated plotting modules\n",
    "import matplotlib.cm as cm\n",
    "import matplotlib.colors as colors\n",
    "\n",
    "# import k-means from clustering stage\n",
    "from sklearn.cluster import KMeans"
   ]
  },
  {
   "cell_type": "markdown",
   "metadata": {},
   "source": [
    "### Using Beautiful Soup to parse the link after reading it using requests"
   ]
  },
  {
   "cell_type": "code",
   "execution_count": 3,
   "metadata": {},
   "outputs": [],
   "source": [
    "#!conda install -c conda-forge lxml --yes \n",
    "source =  requests.get ('https://en.wikipedia.org/wiki/List_of_postal_codes_of_Canada:_M').text\n",
    "soup  = BeautifulSoup(source,'lxml')\n",
    "#print (soup.prettify())"
   ]
  },
  {
   "cell_type": "markdown",
   "metadata": {},
   "source": [
    "#### Converting all needed tables from the link in the dataframe"
   ]
  },
  {
   "cell_type": "code",
   "execution_count": 60,
   "metadata": {},
   "outputs": [
    {
     "name": "stdout",
     "output_type": "stream",
     "text": [
      "    Postcode           Borough           Neighborhood\n",
      "0        M1A      Not assigned           Not assigned\n",
      "1        M2A      Not assigned           Not assigned\n",
      "2        M3A        North York              Parkwoods\n",
      "3        M4A        North York       Victoria Village\n",
      "4        M5A  Downtown Toronto           Harbourfront\n",
      "..       ...               ...                    ...\n",
      "282      M8Z         Etobicoke              Mimico NW\n",
      "283      M8Z         Etobicoke     The Queensway West\n",
      "284      M8Z         Etobicoke  Royal York South West\n",
      "285      M8Z         Etobicoke         South of Bloor\n",
      "286      M9Z      Not assigned           Not assigned\n",
      "\n",
      "[287 rows x 3 columns]\n"
     ]
    }
   ],
   "source": [
    "for table in soup.find_all('table',class_='wikitable sortable'):\n",
    "    s = table\n",
    "#print(type(s))\n",
    "st =  str(s)\n",
    "dfs =  pd.read_html(st)[0]\n",
    "print(dfs)"
   ]
  },
  {
   "cell_type": "markdown",
   "metadata": {},
   "source": [
    "## Optional - directly using ipython to display 'table'"
   ]
  },
  {
   "cell_type": "code",
   "execution_count": 289,
   "metadata": {},
   "outputs": [],
   "source": [
    "#!conda install -c conda-forge ipython --yes \n",
    "#from IPython.display import display_html\n",
    "#display_html(st, raw=True)"
   ]
  },
  {
   "cell_type": "markdown",
   "metadata": {},
   "source": [
    "### To directly read a table from the link - will be using this for the problem"
   ]
  },
  {
   "cell_type": "code",
   "execution_count": 7,
   "metadata": {},
   "outputs": [
    {
     "name": "stdout",
     "output_type": "stream",
     "text": [
      "    Postcode           Borough           Neighborhood\n",
      "0        M1A      Not assigned           Not assigned\n",
      "1        M2A      Not assigned           Not assigned\n",
      "2        M3A        North York              Parkwoods\n",
      "3        M4A        North York       Victoria Village\n",
      "4        M5A  Downtown Toronto           Harbourfront\n",
      "..       ...               ...                    ...\n",
      "282      M8Z         Etobicoke              Mimico NW\n",
      "283      M8Z         Etobicoke     The Queensway West\n",
      "284      M8Z         Etobicoke  Royal York South West\n",
      "285      M8Z         Etobicoke         South of Bloor\n",
      "286      M9Z      Not assigned           Not assigned\n",
      "\n",
      "[287 rows x 3 columns]\n"
     ]
    }
   ],
   "source": [
    "## using df as the final dataframe for part 1 of the question\n",
    "\n",
    "df = pd.read_html('https://en.wikipedia.org/wiki/List_of_postal_codes_of_Canada:_M')[0]\n",
    "print(df)"
   ]
  },
  {
   "cell_type": "markdown",
   "metadata": {},
   "source": [
    "### Renaming the column Postcode to PostalCode to match with the requirement"
   ]
  },
  {
   "cell_type": "code",
   "execution_count": 9,
   "metadata": {},
   "outputs": [
    {
     "data": {
      "text/html": [
       "<div>\n",
       "<style scoped>\n",
       "    .dataframe tbody tr th:only-of-type {\n",
       "        vertical-align: middle;\n",
       "    }\n",
       "\n",
       "    .dataframe tbody tr th {\n",
       "        vertical-align: top;\n",
       "    }\n",
       "\n",
       "    .dataframe thead th {\n",
       "        text-align: right;\n",
       "    }\n",
       "</style>\n",
       "<table border=\"1\" class=\"dataframe\">\n",
       "  <thead>\n",
       "    <tr style=\"text-align: right;\">\n",
       "      <th></th>\n",
       "      <th>PostalCode</th>\n",
       "      <th>Borough</th>\n",
       "      <th>Neighborhood</th>\n",
       "    </tr>\n",
       "  </thead>\n",
       "  <tbody>\n",
       "    <tr>\n",
       "      <th>0</th>\n",
       "      <td>M1A</td>\n",
       "      <td>Not assigned</td>\n",
       "      <td>Not assigned</td>\n",
       "    </tr>\n",
       "    <tr>\n",
       "      <th>1</th>\n",
       "      <td>M2A</td>\n",
       "      <td>Not assigned</td>\n",
       "      <td>Not assigned</td>\n",
       "    </tr>\n",
       "    <tr>\n",
       "      <th>2</th>\n",
       "      <td>M3A</td>\n",
       "      <td>North York</td>\n",
       "      <td>Parkwoods</td>\n",
       "    </tr>\n",
       "    <tr>\n",
       "      <th>3</th>\n",
       "      <td>M4A</td>\n",
       "      <td>North York</td>\n",
       "      <td>Victoria Village</td>\n",
       "    </tr>\n",
       "    <tr>\n",
       "      <th>4</th>\n",
       "      <td>M5A</td>\n",
       "      <td>Downtown Toronto</td>\n",
       "      <td>Harbourfront</td>\n",
       "    </tr>\n",
       "  </tbody>\n",
       "</table>\n",
       "</div>"
      ],
      "text/plain": [
       "  PostalCode           Borough      Neighborhood\n",
       "0        M1A      Not assigned      Not assigned\n",
       "1        M2A      Not assigned      Not assigned\n",
       "2        M3A        North York         Parkwoods\n",
       "3        M4A        North York  Victoria Village\n",
       "4        M5A  Downtown Toronto      Harbourfront"
      ]
     },
     "execution_count": 9,
     "metadata": {},
     "output_type": "execute_result"
    }
   ],
   "source": [
    "df = df.rename(columns= {\"Postcode\": \"PostalCode\"})\n",
    "df.head()"
   ]
  },
  {
   "cell_type": "markdown",
   "metadata": {},
   "source": [
    "### Filtering out the 'Not assigned' Borough values"
   ]
  },
  {
   "cell_type": "code",
   "execution_count": 15,
   "metadata": {},
   "outputs": [
    {
     "data": {
      "text/html": [
       "<div>\n",
       "<style scoped>\n",
       "    .dataframe tbody tr th:only-of-type {\n",
       "        vertical-align: middle;\n",
       "    }\n",
       "\n",
       "    .dataframe tbody tr th {\n",
       "        vertical-align: top;\n",
       "    }\n",
       "\n",
       "    .dataframe thead th {\n",
       "        text-align: right;\n",
       "    }\n",
       "</style>\n",
       "<table border=\"1\" class=\"dataframe\">\n",
       "  <thead>\n",
       "    <tr style=\"text-align: right;\">\n",
       "      <th></th>\n",
       "      <th>PostalCode</th>\n",
       "      <th>Borough</th>\n",
       "      <th>Neighborhood</th>\n",
       "    </tr>\n",
       "  </thead>\n",
       "  <tbody>\n",
       "    <tr>\n",
       "      <th>2</th>\n",
       "      <td>M3A</td>\n",
       "      <td>North York</td>\n",
       "      <td>Parkwoods</td>\n",
       "    </tr>\n",
       "    <tr>\n",
       "      <th>3</th>\n",
       "      <td>M4A</td>\n",
       "      <td>North York</td>\n",
       "      <td>Victoria Village</td>\n",
       "    </tr>\n",
       "    <tr>\n",
       "      <th>4</th>\n",
       "      <td>M5A</td>\n",
       "      <td>Downtown Toronto</td>\n",
       "      <td>Harbourfront</td>\n",
       "    </tr>\n",
       "    <tr>\n",
       "      <th>5</th>\n",
       "      <td>M6A</td>\n",
       "      <td>North York</td>\n",
       "      <td>Lawrence Heights</td>\n",
       "    </tr>\n",
       "    <tr>\n",
       "      <th>6</th>\n",
       "      <td>M6A</td>\n",
       "      <td>North York</td>\n",
       "      <td>Lawrence Manor</td>\n",
       "    </tr>\n",
       "    <tr>\n",
       "      <th>...</th>\n",
       "      <td>...</td>\n",
       "      <td>...</td>\n",
       "      <td>...</td>\n",
       "    </tr>\n",
       "    <tr>\n",
       "      <th>281</th>\n",
       "      <td>M8Z</td>\n",
       "      <td>Etobicoke</td>\n",
       "      <td>Kingsway Park South West</td>\n",
       "    </tr>\n",
       "    <tr>\n",
       "      <th>282</th>\n",
       "      <td>M8Z</td>\n",
       "      <td>Etobicoke</td>\n",
       "      <td>Mimico NW</td>\n",
       "    </tr>\n",
       "    <tr>\n",
       "      <th>283</th>\n",
       "      <td>M8Z</td>\n",
       "      <td>Etobicoke</td>\n",
       "      <td>The Queensway West</td>\n",
       "    </tr>\n",
       "    <tr>\n",
       "      <th>284</th>\n",
       "      <td>M8Z</td>\n",
       "      <td>Etobicoke</td>\n",
       "      <td>Royal York South West</td>\n",
       "    </tr>\n",
       "    <tr>\n",
       "      <th>285</th>\n",
       "      <td>M8Z</td>\n",
       "      <td>Etobicoke</td>\n",
       "      <td>South of Bloor</td>\n",
       "    </tr>\n",
       "  </tbody>\n",
       "</table>\n",
       "<p>210 rows × 3 columns</p>\n",
       "</div>"
      ],
      "text/plain": [
       "    PostalCode           Borough              Neighborhood\n",
       "2          M3A        North York                 Parkwoods\n",
       "3          M4A        North York          Victoria Village\n",
       "4          M5A  Downtown Toronto              Harbourfront\n",
       "5          M6A        North York          Lawrence Heights\n",
       "6          M6A        North York            Lawrence Manor\n",
       "..         ...               ...                       ...\n",
       "281        M8Z         Etobicoke  Kingsway Park South West\n",
       "282        M8Z         Etobicoke                 Mimico NW\n",
       "283        M8Z         Etobicoke        The Queensway West\n",
       "284        M8Z         Etobicoke     Royal York South West\n",
       "285        M8Z         Etobicoke            South of Bloor\n",
       "\n",
       "[210 rows x 3 columns]"
      ]
     },
     "execution_count": 15,
     "metadata": {},
     "output_type": "execute_result"
    }
   ],
   "source": [
    "df_filtered = df[df['Borough']!='Not assigned']\n",
    "df_filtered"
   ]
  },
  {
   "cell_type": "markdown",
   "metadata": {},
   "source": [
    "#### First copying over the Borough to Neighborhood for Neighborhood values as 'Not assigned'. This will help if we have to aggregate neighborhood values in one row\n",
    "\n",
    "\n",
    "\n"
   ]
  },
  {
   "cell_type": "code",
   "execution_count": 20,
   "metadata": {},
   "outputs": [
    {
     "data": {
      "text/html": [
       "<div>\n",
       "<style scoped>\n",
       "    .dataframe tbody tr th:only-of-type {\n",
       "        vertical-align: middle;\n",
       "    }\n",
       "\n",
       "    .dataframe tbody tr th {\n",
       "        vertical-align: top;\n",
       "    }\n",
       "\n",
       "    .dataframe thead th {\n",
       "        text-align: right;\n",
       "    }\n",
       "</style>\n",
       "<table border=\"1\" class=\"dataframe\">\n",
       "  <thead>\n",
       "    <tr style=\"text-align: right;\">\n",
       "      <th></th>\n",
       "      <th>PostalCode</th>\n",
       "      <th>Borough</th>\n",
       "      <th>Neighborhood</th>\n",
       "    </tr>\n",
       "  </thead>\n",
       "  <tbody>\n",
       "    <tr>\n",
       "      <th>2</th>\n",
       "      <td>M3A</td>\n",
       "      <td>North York</td>\n",
       "      <td>Parkwoods</td>\n",
       "    </tr>\n",
       "    <tr>\n",
       "      <th>3</th>\n",
       "      <td>M4A</td>\n",
       "      <td>North York</td>\n",
       "      <td>Victoria Village</td>\n",
       "    </tr>\n",
       "    <tr>\n",
       "      <th>4</th>\n",
       "      <td>M5A</td>\n",
       "      <td>Downtown Toronto</td>\n",
       "      <td>Harbourfront</td>\n",
       "    </tr>\n",
       "    <tr>\n",
       "      <th>5</th>\n",
       "      <td>M6A</td>\n",
       "      <td>North York</td>\n",
       "      <td>Lawrence Heights</td>\n",
       "    </tr>\n",
       "    <tr>\n",
       "      <th>6</th>\n",
       "      <td>M6A</td>\n",
       "      <td>North York</td>\n",
       "      <td>Lawrence Manor</td>\n",
       "    </tr>\n",
       "    <tr>\n",
       "      <th>...</th>\n",
       "      <td>...</td>\n",
       "      <td>...</td>\n",
       "      <td>...</td>\n",
       "    </tr>\n",
       "    <tr>\n",
       "      <th>281</th>\n",
       "      <td>M8Z</td>\n",
       "      <td>Etobicoke</td>\n",
       "      <td>Kingsway Park South West</td>\n",
       "    </tr>\n",
       "    <tr>\n",
       "      <th>282</th>\n",
       "      <td>M8Z</td>\n",
       "      <td>Etobicoke</td>\n",
       "      <td>Mimico NW</td>\n",
       "    </tr>\n",
       "    <tr>\n",
       "      <th>283</th>\n",
       "      <td>M8Z</td>\n",
       "      <td>Etobicoke</td>\n",
       "      <td>The Queensway West</td>\n",
       "    </tr>\n",
       "    <tr>\n",
       "      <th>284</th>\n",
       "      <td>M8Z</td>\n",
       "      <td>Etobicoke</td>\n",
       "      <td>Royal York South West</td>\n",
       "    </tr>\n",
       "    <tr>\n",
       "      <th>285</th>\n",
       "      <td>M8Z</td>\n",
       "      <td>Etobicoke</td>\n",
       "      <td>South of Bloor</td>\n",
       "    </tr>\n",
       "  </tbody>\n",
       "</table>\n",
       "<p>210 rows × 3 columns</p>\n",
       "</div>"
      ],
      "text/plain": [
       "    PostalCode           Borough              Neighborhood\n",
       "2          M3A        North York                 Parkwoods\n",
       "3          M4A        North York          Victoria Village\n",
       "4          M5A  Downtown Toronto              Harbourfront\n",
       "5          M6A        North York          Lawrence Heights\n",
       "6          M6A        North York            Lawrence Manor\n",
       "..         ...               ...                       ...\n",
       "281        M8Z         Etobicoke  Kingsway Park South West\n",
       "282        M8Z         Etobicoke                 Mimico NW\n",
       "283        M8Z         Etobicoke        The Queensway West\n",
       "284        M8Z         Etobicoke     Royal York South West\n",
       "285        M8Z         Etobicoke            South of Bloor\n",
       "\n",
       "[210 rows x 3 columns]"
      ]
     },
     "execution_count": 20,
     "metadata": {},
     "output_type": "execute_result"
    }
   ],
   "source": [
    "df_copy = df_filtered.copy()\n",
    "df_copy.loc[df_copy['Neighborhood'] == 'Not assigned','Neighborhood'] = df_copy['Borough']\n",
    "#df_copy"
   ]
  },
  {
   "cell_type": "markdown",
   "metadata": {},
   "source": [
    "#### To check if the column value was copied - first check the uncopied dataframe and then the updated i.e. df_copy"
   ]
  },
  {
   "cell_type": "code",
   "execution_count": 36,
   "metadata": {},
   "outputs": [
    {
     "name": "stdout",
     "output_type": "stream",
     "text": [
      "Rows where Neighborhood and borough are same is:\n",
      "  Empty DataFrame\n",
      "Columns: [PostalCode, Borough, Neighborhood]\n",
      "Index: []\n",
      "Rows where Neighborhood is Not assigned:\n",
      "   PostalCode       Borough  Neighborhood\n",
      "7        M7A  Queen's Park  Not assigned\n",
      "Rows where Neighborhood is copied from Borough:\n",
      "   PostalCode       Borough  Neighborhood\n",
      "7        M7A  Queen's Park  Queen's Park\n"
     ]
    }
   ],
   "source": [
    "print('Rows where Neighborhood and borough are same is:\\n ',df_filtered.loc[df_filtered['Neighborhood']== df_filtered['Borough']]) # returns empty as there's no same value\n",
    "print('Rows where Neighborhood is Not assigned:\\n',df_filtered.loc[df_filtered['Neighborhood']== 'Not assigned']) # returns one row where Neighborhood is Not assigned\n",
    "print('Rows where Neighborhood is copied from Borough:\\n',df_copy.loc[df_copy['Neighborhood']== df_copy['Borough']]) # returns the row where neighborhood value was updated"
   ]
  },
  {
   "cell_type": "markdown",
   "metadata": {},
   "source": [
    "#### Checking the rows where the Neighborhood values would need to be aggregated"
   ]
  },
  {
   "cell_type": "code",
   "execution_count": 58,
   "metadata": {},
   "outputs": [
    {
     "name": "stdout",
     "output_type": "stream",
     "text": [
      "Final data should have 103 rows\n"
     ]
    }
   ],
   "source": [
    "df_cnt = df_copy.groupby(['PostalCode','Borough']).count()\n",
    "print('Final data should have {} rows'.format(df_cnt.shape[0]))"
   ]
  },
  {
   "cell_type": "markdown",
   "metadata": {},
   "source": [
    "#### Creating the final dataset as per requirements"
   ]
  },
  {
   "cell_type": "code",
   "execution_count": 74,
   "metadata": {},
   "outputs": [
    {
     "name": "stdout",
     "output_type": "stream",
     "text": [
      "    PostalCode      Borough                                       Neighborhood\n",
      "0          M1B  Scarborough                                     Rouge, Malvern\n",
      "1          M1C  Scarborough             Highland Creek, Rouge Hill, Port Union\n",
      "2          M1E  Scarborough                  Guildwood, Morningside, West Hill\n",
      "3          M1G  Scarborough                                             Woburn\n",
      "4          M1H  Scarborough                                          Cedarbrae\n",
      "..         ...          ...                                                ...\n",
      "98         M9N         York                                             Weston\n",
      "99         M9P    Etobicoke                                          Westmount\n",
      "100        M9R    Etobicoke  Kingsview Village, Martin Grove Gardens, Richv...\n",
      "101        M9V    Etobicoke  Albion Gardens, Beaumond Heights, Humbergate, ...\n",
      "102        M9W    Etobicoke                                          Northwest\n",
      "\n",
      "[103 rows x 3 columns]\n"
     ]
    }
   ],
   "source": [
    "df_final =  df_copy.groupby(['PostalCode','Borough']).agg(Neighborhood = ('Neighborhood',', '.join)).reset_index()\n",
    "print(df_final)"
   ]
  },
  {
   "cell_type": "code",
   "execution_count": 75,
   "metadata": {},
   "outputs": [
    {
     "name": "stdout",
     "output_type": "stream",
     "text": [
      "Final data has 103 rows\n"
     ]
    }
   ],
   "source": [
    "print('Final data has {} rows'.format(df_final.shape[0]))"
   ]
  }
 ],
 "metadata": {
  "kernelspec": {
   "display_name": "Python",
   "language": "python",
   "name": "conda-env-python-py"
  },
  "language_info": {
   "codemirror_mode": {
    "name": "ipython",
    "version": 3
   },
   "file_extension": ".py",
   "mimetype": "text/x-python",
   "name": "python",
   "nbconvert_exporter": "python",
   "pygments_lexer": "ipython3",
   "version": "3.6.7"
  }
 },
 "nbformat": 4,
 "nbformat_minor": 4
}
